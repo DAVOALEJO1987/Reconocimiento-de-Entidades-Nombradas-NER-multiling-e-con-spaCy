{
  "nbformat": 4,
  "nbformat_minor": 0,
  "metadata": {
    "colab": {
      "provenance": []
    },
    "kernelspec": {
      "name": "python3",
      "display_name": "Python 3"
    },
    "language_info": {
      "name": "python"
    }
  },
  "cells": [
    {
      "cell_type": "markdown",
      "source": [
        "# Actividad 1: NER en Inglés y Español (Reconocimiento de Entidades Nombradas)\n",
        "\n",
        "Notebook: NLP_Ejercicios_Basicos.ipynb\n",
        "\n",
        "Ejecutar las secciones relacionadas con spaCy y NER.\n",
        "Reemplazar los textos originales por:\n",
        "\n",
        "*   2 textos en inglés (mínimo 3 entidades).\n",
        "*   2 textos en español (traducido) (mínimo 3 entidades).\n",
        "\n",
        "Asegurarse de cargar el modelo correcto de idioma para cada uno (en_core_web_sm y es_core_news_sm).\n",
        "\n",
        "Agregar una celda extra que resuma cuántas entidades hay por tipo (ej: PERSON, GPE, ORG, etc.)."
      ],
      "metadata": {
        "id": "F_3ZbdzIqlL0"
      }
    },
    {
      "cell_type": "code",
      "execution_count": 5,
      "metadata": {
        "colab": {
          "base_uri": "https://localhost:8080/",
          "height": 1000
        },
        "id": "oQr0dRrspO7j",
        "outputId": "55327ba0-30a8-448a-b88c-6ac1d4a1aa27"
      },
      "outputs": [
        {
          "output_type": "stream",
          "name": "stdout",
          "text": [
            "\u001b[2K     \u001b[90m━━━━━━━━━━━━━━━━━━━━━━━━━━━━━━━━━━━━━━━━\u001b[0m \u001b[32m12.9/12.9 MB\u001b[0m \u001b[31m40.4 MB/s\u001b[0m eta \u001b[36m0:00:00\u001b[0m\n",
            "\u001b[?25h\u001b[38;5;2m✔ Download and installation successful\u001b[0m\n",
            "You can now load the package via spacy.load('es_core_news_sm')\n",
            "\u001b[38;5;3m⚠ Restart to reload dependencies\u001b[0m\n",
            "If you are in a Jupyter or Colab notebook, you may need to restart Python in\n",
            "order to load all the package's dependencies. You can do this by selecting the\n",
            "'Restart kernel' or 'Restart runtime' option.\n",
            "\u001b[2K     \u001b[90m━━━━━━━━━━━━━━━━━━━━━━━━━━━━━━━━━━━━━━━━\u001b[0m \u001b[32m12.8/12.8 MB\u001b[0m \u001b[31m46.2 MB/s\u001b[0m eta \u001b[36m0:00:00\u001b[0m\n",
            "\u001b[?25h\u001b[38;5;2m✔ Download and installation successful\u001b[0m\n",
            "You can now load the package via spacy.load('en_core_web_sm')\n",
            "\u001b[38;5;3m⚠ Restart to reload dependencies\u001b[0m\n",
            "If you are in a Jupyter or Colab notebook, you may need to restart Python in\n",
            "order to load all the package's dependencies. You can do this by selecting the\n",
            "'Restart kernel' or 'Restart runtime' option.\n",
            "\n",
            "--- Procesando texto en EN ---\n",
            "Texto: Apple is planning to build a new headquarters in Cupertino, California.\n",
            "Número de palabras: 11\n",
            "Número de entidades nombradas (NER): 3\n",
            "Entidades nombradas encontradas:\n",
            "- Apple (ORG)\n",
            "- Cupertino (GPE)\n",
            "- California (GPE)\n",
            "\n",
            "--- Visualización de Entidades Nombradas ---\n"
          ]
        },
        {
          "output_type": "display_data",
          "data": {
            "text/plain": [
              "<IPython.core.display.HTML object>"
            ],
            "text/html": [
              "<span class=\"tex2jax_ignore\"><div class=\"entities\" style=\"line-height: 2.5; direction: ltr\">\n",
              "<mark class=\"entity\" style=\"background: #7aecec; padding: 0.45em 0.6em; margin: 0 0.25em; line-height: 1; border-radius: 0.35em;\">\n",
              "    Apple\n",
              "    <span style=\"font-size: 0.8em; font-weight: bold; line-height: 1; border-radius: 0.35em; vertical-align: middle; margin-left: 0.5rem\">ORG</span>\n",
              "</mark>\n",
              " is planning to build a new headquarters in \n",
              "<mark class=\"entity\" style=\"background: #feca74; padding: 0.45em 0.6em; margin: 0 0.25em; line-height: 1; border-radius: 0.35em;\">\n",
              "    Cupertino\n",
              "    <span style=\"font-size: 0.8em; font-weight: bold; line-height: 1; border-radius: 0.35em; vertical-align: middle; margin-left: 0.5rem\">GPE</span>\n",
              "</mark>\n",
              ", \n",
              "<mark class=\"entity\" style=\"background: #feca74; padding: 0.45em 0.6em; margin: 0 0.25em; line-height: 1; border-radius: 0.35em;\">\n",
              "    California\n",
              "    <span style=\"font-size: 0.8em; font-weight: bold; line-height: 1; border-radius: 0.35em; vertical-align: middle; margin-left: 0.5rem\">GPE</span>\n",
              "</mark>\n",
              ".</div></span>"
            ]
          },
          "metadata": {}
        },
        {
          "output_type": "stream",
          "name": "stdout",
          "text": [
            "\n",
            "--- Procesando texto en EN ---\n",
            "Texto: Tim Cook is the CEO of Apple.\n",
            "Número de palabras: 7\n",
            "Número de entidades nombradas (NER): 2\n",
            "Entidades nombradas encontradas:\n",
            "- Tim Cook (PERSON)\n",
            "- Apple (ORG)\n",
            "\n",
            "--- Visualización de Entidades Nombradas ---\n"
          ]
        },
        {
          "output_type": "display_data",
          "data": {
            "text/plain": [
              "<IPython.core.display.HTML object>"
            ],
            "text/html": [
              "<span class=\"tex2jax_ignore\"><div class=\"entities\" style=\"line-height: 2.5; direction: ltr\">\n",
              "<mark class=\"entity\" style=\"background: #aa9cfc; padding: 0.45em 0.6em; margin: 0 0.25em; line-height: 1; border-radius: 0.35em;\">\n",
              "    Tim Cook\n",
              "    <span style=\"font-size: 0.8em; font-weight: bold; line-height: 1; border-radius: 0.35em; vertical-align: middle; margin-left: 0.5rem\">PERSON</span>\n",
              "</mark>\n",
              " is the CEO of \n",
              "<mark class=\"entity\" style=\"background: #7aecec; padding: 0.45em 0.6em; margin: 0 0.25em; line-height: 1; border-radius: 0.35em;\">\n",
              "    Apple\n",
              "    <span style=\"font-size: 0.8em; font-weight: bold; line-height: 1; border-radius: 0.35em; vertical-align: middle; margin-left: 0.5rem\">ORG</span>\n",
              "</mark>\n",
              ".</div></span>"
            ]
          },
          "metadata": {}
        },
        {
          "output_type": "stream",
          "name": "stdout",
          "text": [
            "\n",
            "--- Procesando texto en ES ---\n",
            "Texto: Gabriel García Márquez nació en Aracataca, Colombia.\n",
            "Número de palabras: 7\n",
            "Número de entidades nombradas (NER): 3\n",
            "Entidades nombradas encontradas:\n",
            "- Gabriel García Márquez (PER)\n",
            "- Aracataca (LOC)\n",
            "- Colombia (LOC)\n",
            "\n",
            "--- Visualización de Entidades Nombradas ---\n"
          ]
        },
        {
          "output_type": "display_data",
          "data": {
            "text/plain": [
              "<IPython.core.display.HTML object>"
            ],
            "text/html": [
              "<span class=\"tex2jax_ignore\"><div class=\"entities\" style=\"line-height: 2.5; direction: ltr\">\n",
              "<mark class=\"entity\" style=\"background: #ddd; padding: 0.45em 0.6em; margin: 0 0.25em; line-height: 1; border-radius: 0.35em;\">\n",
              "    Gabriel García Márquez\n",
              "    <span style=\"font-size: 0.8em; font-weight: bold; line-height: 1; border-radius: 0.35em; vertical-align: middle; margin-left: 0.5rem\">PER</span>\n",
              "</mark>\n",
              " nació en \n",
              "<mark class=\"entity\" style=\"background: #ff9561; padding: 0.45em 0.6em; margin: 0 0.25em; line-height: 1; border-radius: 0.35em;\">\n",
              "    Aracataca\n",
              "    <span style=\"font-size: 0.8em; font-weight: bold; line-height: 1; border-radius: 0.35em; vertical-align: middle; margin-left: 0.5rem\">LOC</span>\n",
              "</mark>\n",
              ", \n",
              "<mark class=\"entity\" style=\"background: #ff9561; padding: 0.45em 0.6em; margin: 0 0.25em; line-height: 1; border-radius: 0.35em;\">\n",
              "    Colombia\n",
              "    <span style=\"font-size: 0.8em; font-weight: bold; line-height: 1; border-radius: 0.35em; vertical-align: middle; margin-left: 0.5rem\">LOC</span>\n",
              "</mark>\n",
              ".</div></span>"
            ]
          },
          "metadata": {}
        },
        {
          "output_type": "stream",
          "name": "stdout",
          "text": [
            "\n",
            "--- Procesando texto en ES ---\n",
            "Texto: La novela 'Cien años de soledad' fue escrita por Gabriel García Márquez.\n",
            "Número de palabras: 12\n",
            "Número de entidades nombradas (NER): 2\n",
            "Entidades nombradas encontradas:\n",
            "- Cien años de soledad (MISC)\n",
            "- Gabriel García Márquez (PER)\n",
            "\n",
            "--- Visualización de Entidades Nombradas ---\n"
          ]
        },
        {
          "output_type": "display_data",
          "data": {
            "text/plain": [
              "<IPython.core.display.HTML object>"
            ],
            "text/html": [
              "<span class=\"tex2jax_ignore\"><div class=\"entities\" style=\"line-height: 2.5; direction: ltr\">La novela '\n",
              "<mark class=\"entity\" style=\"background: #ddd; padding: 0.45em 0.6em; margin: 0 0.25em; line-height: 1; border-radius: 0.35em;\">\n",
              "    Cien años de soledad\n",
              "    <span style=\"font-size: 0.8em; font-weight: bold; line-height: 1; border-radius: 0.35em; vertical-align: middle; margin-left: 0.5rem\">MISC</span>\n",
              "</mark>\n",
              "' fue escrita por \n",
              "<mark class=\"entity\" style=\"background: #ddd; padding: 0.45em 0.6em; margin: 0 0.25em; line-height: 1; border-radius: 0.35em;\">\n",
              "    Gabriel García Márquez\n",
              "    <span style=\"font-size: 0.8em; font-weight: bold; line-height: 1; border-radius: 0.35em; vertical-align: middle; margin-left: 0.5rem\">PER</span>\n",
              "</mark>\n",
              ".</div></span>"
            ]
          },
          "metadata": {}
        }
      ],
      "source": [
        "# 🔄 Instalar spaCy y modelos\n",
        "!pip install -U spacy --quiet\n",
        "!python -m spacy download es_core_news_sm --quiet\n",
        "!python -m spacy download en_core_web_sm --quiet\n",
        "\n",
        "# 📚 Importar y cargar modelo\n",
        "import spacy\n",
        "from spacy import displacy\n",
        "\n",
        "# ====================================================================================================================================================================================\n",
        "# Textos y modelos\n",
        "texts = [\n",
        "    {\"text\": \"Apple is planning to build a new headquarters in Cupertino, California.\", \"lang\": \"en\"},\n",
        "    {\"text\": \"Tim Cook is the CEO of Apple.\", \"lang\": \"en\"},\n",
        "    {\"text\": \"Gabriel García Márquez nació en Aracataca, Colombia.\", \"lang\": \"es\"},\n",
        "    {\"text\": \"La novela 'Cien años de soledad' fue escrita por Gabriel García Márquez.\", \"lang\": \"es\"}\n",
        "]\n",
        "\n",
        "# 🧠 Procesar cada texto\n",
        "all_entities = {}\n",
        "for item in texts:\n",
        "    text = item[\"text\"]\n",
        "    lang = item[\"lang\"]\n",
        "    print(f\"\\n--- Procesando texto en {lang.upper()} ---\")\n",
        "    print(f\"Texto: {text}\")\n",
        "\n",
        "    if lang == \"en\":\n",
        "        nlp = spacy.load(\"en_core_web_sm\")\n",
        "    elif lang == \"es\":\n",
        "        nlp = spacy.load(\"es_core_news_sm\")\n",
        "\n",
        "    doc = nlp(text)\n",
        "\n",
        "    # 📝 Contar palabras\n",
        "    num_palabras = len([token for token in doc if token.is_alpha])\n",
        "    print(f\"Número de palabras: {num_palabras}\")\n",
        "\n",
        "    # 🎯 Contar entidades nombradas (NER)\n",
        "    num_entidades = len(doc.ents)\n",
        "    print(f\"Número de entidades nombradas (NER): {num_entidades}\")\n",
        "\n",
        "    # 📊 Mostrar las entidades nombradas y su tipo\n",
        "    print(\"Entidades nombradas encontradas:\")\n",
        "    for ent in doc.ents:\n",
        "        print(f\"- {ent.text} ({ent.label_})\")\n",
        "        all_entities[ent.label_] = all_entities.get(ent.label_, 0) + 1\n",
        "\n",
        "    # 📊 Visualización de Entidades Nombradas (solo funciona en Jupyter/Colab)\n",
        "    print(\"\\n--- Visualización de Entidades Nombradas ---\")\n",
        "    displacy.render(doc, style=\"ent\", jupyter=True)\n",
        "\n",
        "\n",
        "# 📊 Resumen global de entidades por tipo (using the last cell's logic for clarity)\n",
        "# This part will be handled by the next cell (c0sinwcerPFY) which summarizes all entities.\n",
        "# It's being collected in the loop above into `all_entities` dictionary."
      ]
    },
    {
      "cell_type": "code",
      "source": [
        "# 📊 Resumen global de entidades por tipo\n",
        "print(\"\\n--- Resumen global de entidades por tipo ---\")\n",
        "# The all_entities dictionary is populated in the previous cell\n",
        "if 'all_entities' in locals():\n",
        "  for entity_type, count in all_entities.items():\n",
        "      print(f\"{entity_type}: {count}\")\n",
        "else:\n",
        "  print(\"No entities were processed. Please run the previous cell.\")"
      ],
      "metadata": {
        "colab": {
          "base_uri": "https://localhost:8080/"
        },
        "id": "c0sinwcerPFY",
        "outputId": "848b3ca5-e69d-4783-fba4-ec6753d9dd55"
      },
      "execution_count": 4,
      "outputs": [
        {
          "output_type": "stream",
          "name": "stdout",
          "text": [
            "\n",
            "--- Resumen global de entidades por tipo ---\n",
            "ORG: 2\n",
            "GPE: 2\n",
            "PERSON: 1\n",
            "PER: 2\n",
            "LOC: 2\n",
            "MISC: 1\n"
          ]
        }
      ]
    }
  ]
}